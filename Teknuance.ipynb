{
 "cells": [
  {
   "cell_type": "code",
   "execution_count": 46,
   "metadata": {},
   "outputs": [],
   "source": [
    "# Teknuance Task "
   ]
  },
  {
   "cell_type": "code",
   "execution_count": 47,
   "metadata": {},
   "outputs": [],
   "source": [
    "# Importing the required header files\n",
    "import numpy as np\n",
    "import sklearn.cluster\n",
    "import distance"
   ]
  },
  {
   "cell_type": "code",
   "execution_count": 48,
   "metadata": {},
   "outputs": [],
   "source": [
    "# Sample Word List on which we can test our algorithm\n",
    "# words = \"Deana, Diane, Dionne, Gerald, Irina, Lisette, Minna, Nicki, Ricki, Clair, Jani, Jason, Jc, Kimi, Lang, Marcus, Maxima, Randi, Raul, Destiny, Kellye, Marylin, Mercedes, Sterling, Verline, Elenor, Glenn, Gwenda, Armandina, Augustina, Ahmed, Estella, Milissa, Shiela, Thresa, Wynell, Autumn, Haydee, Laureen, Lauren, Albertha, Alberto, Robert, Ammie, Doreen, Eura, Josef, Lore, Lori, Porter\".split(\", \") "
   ]
  },
  {
   "cell_type": "code",
   "execution_count": 49,
   "metadata": {},
   "outputs": [],
   "source": [
    "# Table Names\n",
    "tnames=['Punjab_National_Bank_Customer', 'State_Bank_of_India_Customer', 'Axis_Bank_Customer', 'Dhanalaxmi_Bank_Customer', 'Union_Bank_Customer', 'HDFC_Bank_Customer', 'ICIC_Bank_Customer', 'Canara_Bank_Customer', 'Bank_of_Baroda_Customer', 'Yes_Bank_Customer', 'Kotak_Mahindra_Bank_Customer', 'IDFC_Bank_Customer', 'DCB_Bank_Customer', 'Bandhan_Bank_Customer', 'Punjab_National_Bank_Account', 'State_Bank_of_India_Account', 'Axis_Bank_Account', 'Dhanalaxmi_Bank_Account', 'Union_Bank_Account', 'HDFC_Bank_Account', 'ICIC_Bank_Account', 'Canara_Bank_Account', 'Bank_of_Baroda_Account', 'Yes_Bank_Account', 'Kotak_Mahindra_Bank_Account', 'IDFC_Bank_Account', 'DCB_Bank_Account', 'Bandhan_Bank_Account', 'Punjab_National_Bank_Branch', 'State_Bank_of_India_Branch', 'Axis_Bank_Branch', 'Dhanalaxmi_Bank_Branch', 'Union_Bank_Branch', 'HDFC_Bank_Branch', 'ICIC_Bank_Branch', 'Canara_Bank_Branch', 'Bank_of_Baroda_Branch', 'Yes_Bank_Branch', 'Kotak_Mahindra_Bank_Branch', 'IDFC_Bank_Branch', 'DCB_Bank_Branch', 'Bandhan_Bank_Branch', 'Punjab_National_Bank_Loan', 'State_Bank_of_India_Loan', 'Axis_Bank_Loan', 'Dhanalaxmi_Bank_Loan', 'Union_Bank_Loan', 'HDFC_Bank_Loan', 'ICIC_Bank_Loan', 'Canara_Bank_Loan', 'Bank_of_Baroda_Loan', 'Yes_Bank_Loan', 'Kotak_Mahindra_Bank_Loan', 'IDFC_Bank_Loan', 'DCB_Bank_Loan', 'Bandhan_Bank_Loan', 'Punjab_National_Bank_Employee', 'State_Bank_of_India_Employee', 'Axis_Bank_Employee', 'Dhanalaxmi_Bank_Employee', 'Union_Bank_Employee', 'HDFC_Bank_Employee', 'ICIC_Bank_Employee', 'Canara_Bank_Employee', 'Bank_of_Baroda_Employee', 'Yes_Bank_Employee', 'Kotak_Mahindra_Bank_Employee', 'IDFC_Bank_Employee', 'DCB_Bank_Employee', 'Bandhan_Bank_Employee']"
   ]
  },
  {
   "cell_type": "code",
   "execution_count": 50,
   "metadata": {},
   "outputs": [
    {
     "name": "stdout",
     "output_type": "stream",
     "text": [
      "[['Punjab', 'National', 'Bank', 'Customer'], ['State', 'Bank', 'of', 'India', 'Customer'], ['Axis', 'Bank', 'Customer'], ['Dhanalaxmi', 'Bank', 'Customer'], ['Union', 'Bank', 'Customer'], ['HDFC', 'Bank', 'Customer'], ['ICIC', 'Bank', 'Customer'], ['Canara', 'Bank', 'Customer'], ['Bank', 'of', 'Baroda', 'Customer'], ['Yes', 'Bank', 'Customer'], ['Kotak', 'Mahindra', 'Bank', 'Customer'], ['IDFC', 'Bank', 'Customer'], ['DCB', 'Bank', 'Customer'], ['Bandhan', 'Bank', 'Customer'], ['Punjab', 'National', 'Bank', 'Account'], ['State', 'Bank', 'of', 'India', 'Account'], ['Axis', 'Bank', 'Account'], ['Dhanalaxmi', 'Bank', 'Account'], ['Union', 'Bank', 'Account'], ['HDFC', 'Bank', 'Account'], ['ICIC', 'Bank', 'Account'], ['Canara', 'Bank', 'Account'], ['Bank', 'of', 'Baroda', 'Account'], ['Yes', 'Bank', 'Account'], ['Kotak', 'Mahindra', 'Bank', 'Account'], ['IDFC', 'Bank', 'Account'], ['DCB', 'Bank', 'Account'], ['Bandhan', 'Bank', 'Account'], ['Punjab', 'National', 'Bank', 'Branch'], ['State', 'Bank', 'of', 'India', 'Branch'], ['Axis', 'Bank', 'Branch'], ['Dhanalaxmi', 'Bank', 'Branch'], ['Union', 'Bank', 'Branch'], ['HDFC', 'Bank', 'Branch'], ['ICIC', 'Bank', 'Branch'], ['Canara', 'Bank', 'Branch'], ['Bank', 'of', 'Baroda', 'Branch'], ['Yes', 'Bank', 'Branch'], ['Kotak', 'Mahindra', 'Bank', 'Branch'], ['IDFC', 'Bank', 'Branch'], ['DCB', 'Bank', 'Branch'], ['Bandhan', 'Bank', 'Branch'], ['Punjab', 'National', 'Bank', 'Loan'], ['State', 'Bank', 'of', 'India', 'Loan'], ['Axis', 'Bank', 'Loan'], ['Dhanalaxmi', 'Bank', 'Loan'], ['Union', 'Bank', 'Loan'], ['HDFC', 'Bank', 'Loan'], ['ICIC', 'Bank', 'Loan'], ['Canara', 'Bank', 'Loan'], ['Bank', 'of', 'Baroda', 'Loan'], ['Yes', 'Bank', 'Loan'], ['Kotak', 'Mahindra', 'Bank', 'Loan'], ['IDFC', 'Bank', 'Loan'], ['DCB', 'Bank', 'Loan'], ['Bandhan', 'Bank', 'Loan'], ['Punjab', 'National', 'Bank', 'Employee'], ['State', 'Bank', 'of', 'India', 'Employee'], ['Axis', 'Bank', 'Employee'], ['Dhanalaxmi', 'Bank', 'Employee'], ['Union', 'Bank', 'Employee'], ['HDFC', 'Bank', 'Employee'], ['ICIC', 'Bank', 'Employee'], ['Canara', 'Bank', 'Employee'], ['Bank', 'of', 'Baroda', 'Employee'], ['Yes', 'Bank', 'Employee'], ['Kotak', 'Mahindra', 'Bank', 'Employee'], ['IDFC', 'Bank', 'Employee'], ['DCB', 'Bank', 'Employee'], ['Bandhan', 'Bank', 'Employee']]\n"
     ]
    }
   ],
   "source": [
    "# Splitting the Table Names to get the words in the table name as a list\n",
    "tnames1=[]\n",
    "for i in tnames:\n",
    "    tnames1.append(i.split('_'))\n",
    "print(tnames1)"
   ]
  },
  {
   "cell_type": "code",
   "execution_count": 51,
   "metadata": {},
   "outputs": [
    {
     "name": "stdout",
     "output_type": "stream",
     "text": [
      "['Customer', 'Customer', 'Customer', 'Customer', 'Customer', 'Customer', 'Customer', 'Customer', 'Customer', 'Customer', 'Customer', 'Customer', 'Customer', 'Customer', 'Account', 'Account', 'Account', 'Account', 'Account', 'Account', 'Account', 'Account', 'Account', 'Account', 'Account', 'Account', 'Account', 'Account', 'Branch', 'Branch', 'Branch', 'Branch', 'Branch', 'Branch', 'Branch', 'Branch', 'Branch', 'Branch', 'Branch', 'Branch', 'Branch', 'Branch', 'Loan', 'Loan', 'Loan', 'Loan', 'Loan', 'Loan', 'Loan', 'Loan', 'Loan', 'Loan', 'Loan', 'Loan', 'Loan', 'Loan', 'Employee', 'Employee', 'Employee', 'Employee', 'Employee', 'Employee', 'Employee', 'Employee', 'Employee', 'Employee', 'Employee', 'Employee', 'Employee', 'Employee']\n",
      "70\n"
     ]
    }
   ],
   "source": [
    "# To store the last word in the table names\n",
    "last=[]\n",
    "for i in tnames1:\n",
    "    last.append(i[-1])\n",
    "    \n",
    "print(last)\n",
    "l=len(last)\n",
    "print(len(last))"
   ]
  },
  {
   "cell_type": "code",
   "execution_count": 52,
   "metadata": {},
   "outputs": [
    {
     "name": "stdout",
     "output_type": "stream",
     "text": [
      "{'Customer': 14, 'Account': 14, 'Branch': 14, 'Loan': 14, 'Employee': 14}\n"
     ]
    }
   ],
   "source": [
    "# Dictionay to store the elements of the last array with their frequencies\n",
    "dicto = {x:last.count(x) for x in last}\n",
    "print(dicto)"
   ]
  },
  {
   "cell_type": "code",
   "execution_count": 53,
   "metadata": {},
   "outputs": [
    {
     "name": "stdout",
     "output_type": "stream",
     "text": [
      "['Customer', 'Account', 'Branch', 'Loan', 'Employee']\n"
     ]
    }
   ],
   "source": [
    "# Choosing elements of last array which occur more than 20% of the time\n",
    "ans=[]\n",
    "for key in dicto:\n",
    "    if dicto[key]>=0.15*l:\n",
    "        ans.append(key)\n",
    "print(ans)"
   ]
  },
  {
   "cell_type": "code",
   "execution_count": 54,
   "metadata": {},
   "outputs": [
    {
     "name": "stdout",
     "output_type": "stream",
     "text": [
      "[['Punjab', 'National', 'Bank'], ['State', 'Bank', 'of', 'India'], ['Axis', 'Bank'], ['Dhanalaxmi', 'Bank'], ['Union', 'Bank'], ['HDFC', 'Bank'], ['ICIC', 'Bank'], ['Canara', 'Bank'], ['Bank', 'of', 'Baroda'], ['Yes', 'Bank'], ['Kotak', 'Mahindra', 'Bank'], ['IDFC', 'Bank'], ['DCB', 'Bank'], ['Bandhan', 'Bank'], ['Punjab', 'National', 'Bank'], ['State', 'Bank', 'of', 'India'], ['Axis', 'Bank'], ['Dhanalaxmi', 'Bank'], ['Union', 'Bank'], ['HDFC', 'Bank'], ['ICIC', 'Bank'], ['Canara', 'Bank'], ['Bank', 'of', 'Baroda'], ['Yes', 'Bank'], ['Kotak', 'Mahindra', 'Bank'], ['IDFC', 'Bank'], ['DCB', 'Bank'], ['Bandhan', 'Bank'], ['Punjab', 'National', 'Bank'], ['State', 'Bank', 'of', 'India'], ['Axis', 'Bank'], ['Dhanalaxmi', 'Bank'], ['Union', 'Bank'], ['HDFC', 'Bank'], ['ICIC', 'Bank'], ['Canara', 'Bank'], ['Bank', 'of', 'Baroda'], ['Yes', 'Bank'], ['Kotak', 'Mahindra', 'Bank'], ['IDFC', 'Bank'], ['DCB', 'Bank'], ['Bandhan', 'Bank'], ['Punjab', 'National', 'Bank'], ['State', 'Bank', 'of', 'India'], ['Axis', 'Bank'], ['Dhanalaxmi', 'Bank'], ['Union', 'Bank'], ['HDFC', 'Bank'], ['ICIC', 'Bank'], ['Canara', 'Bank'], ['Bank', 'of', 'Baroda'], ['Yes', 'Bank'], ['Kotak', 'Mahindra', 'Bank'], ['IDFC', 'Bank'], ['DCB', 'Bank'], ['Bandhan', 'Bank'], ['Punjab', 'National', 'Bank'], ['State', 'Bank', 'of', 'India'], ['Axis', 'Bank'], ['Dhanalaxmi', 'Bank'], ['Union', 'Bank'], ['HDFC', 'Bank'], ['ICIC', 'Bank'], ['Canara', 'Bank'], ['Bank', 'of', 'Baroda'], ['Yes', 'Bank'], ['Kotak', 'Mahindra', 'Bank'], ['IDFC', 'Bank'], ['DCB', 'Bank'], ['Bandhan', 'Bank']]\n"
     ]
    }
   ],
   "source": [
    "# Removing Words from the end of table name if they have occured more than 15% of the time\n",
    "for i in tnames1:\n",
    "    for j in ans:\n",
    "        if j in i:\n",
    "            i.remove(j)\n",
    "print(tnames1)"
   ]
  },
  {
   "cell_type": "code",
   "execution_count": 55,
   "metadata": {},
   "outputs": [
    {
     "name": "stdout",
     "output_type": "stream",
     "text": [
      "['Punjab National Bank', 'State Bank of India', 'Axis Bank', 'Dhanalaxmi Bank', 'Union Bank', 'HDFC Bank', 'ICIC Bank', 'Canara Bank', 'Bank of Baroda', 'Yes Bank', 'Kotak Mahindra Bank', 'IDFC Bank', 'DCB Bank', 'Bandhan Bank', 'Punjab National Bank', 'State Bank of India', 'Axis Bank', 'Dhanalaxmi Bank', 'Union Bank', 'HDFC Bank', 'ICIC Bank', 'Canara Bank', 'Bank of Baroda', 'Yes Bank', 'Kotak Mahindra Bank', 'IDFC Bank', 'DCB Bank', 'Bandhan Bank', 'Punjab National Bank', 'State Bank of India', 'Axis Bank', 'Dhanalaxmi Bank', 'Union Bank', 'HDFC Bank', 'ICIC Bank', 'Canara Bank', 'Bank of Baroda', 'Yes Bank', 'Kotak Mahindra Bank', 'IDFC Bank', 'DCB Bank', 'Bandhan Bank', 'Punjab National Bank', 'State Bank of India', 'Axis Bank', 'Dhanalaxmi Bank', 'Union Bank', 'HDFC Bank', 'ICIC Bank', 'Canara Bank', 'Bank of Baroda', 'Yes Bank', 'Kotak Mahindra Bank', 'IDFC Bank', 'DCB Bank', 'Bandhan Bank', 'Punjab National Bank', 'State Bank of India', 'Axis Bank', 'Dhanalaxmi Bank', 'Union Bank', 'HDFC Bank', 'ICIC Bank', 'Canara Bank', 'Bank of Baroda', 'Yes Bank', 'Kotak Mahindra Bank', 'IDFC Bank', 'DCB Bank', 'Bandhan Bank']\n"
     ]
    }
   ],
   "source": [
    "# Creating the list of table names back after pre processing\n",
    "words=[]\n",
    "for i in tnames1:\n",
    "    words.append(\" \".join(i))\n",
    "print(words)"
   ]
  },
  {
   "cell_type": "code",
   "execution_count": 56,
   "metadata": {},
   "outputs": [],
   "source": [
    "#So that indexing with a list will work\n",
    "words = np.asarray(words) "
   ]
  },
  {
   "cell_type": "code",
   "execution_count": 57,
   "metadata": {},
   "outputs": [],
   "source": [
    "# Insted of using normal Unsupervised Clustering Algorithms such as K-Means,etc. where we have to pick the \n",
    "# number of clusters through methods such as Elbow Method, etc. , I searched the net and found the \n",
    "# Affinity propogation Model which is also used as a unsupervised Clustering Algorithm in a Research Paper.\n",
    "# It is genrally used for Text based Clustering."
   ]
  },
  {
   "cell_type": "code",
   "execution_count": 58,
   "metadata": {},
   "outputs": [],
   "source": [
    "# Creating the Distance Matrix to be fed into the Affinity propoagation Model\n",
    "lev_similarity = -1*np.array([[distance.levenshtein(w1,w2) for w1 in words] for w2 in words])"
   ]
  },
  {
   "cell_type": "code",
   "execution_count": 59,
   "metadata": {},
   "outputs": [],
   "source": [
    "# I tried various distance metrics such as Jaccard Similarity, Levenshtein distance, etc. but found that Levenshtien produced the best results."
   ]
  },
  {
   "cell_type": "code",
   "execution_count": 60,
   "metadata": {},
   "outputs": [],
   "source": [
    "# Creating the Model\n",
    "affprop = sklearn.cluster.AffinityPropagation(affinity=\"precomputed\", damping=0.5)"
   ]
  },
  {
   "cell_type": "code",
   "execution_count": 61,
   "metadata": {},
   "outputs": [
    {
     "data": {
      "text/plain": [
       "AffinityPropagation(affinity='precomputed', convergence_iter=15, copy=True,\n",
       "          damping=0.5, max_iter=200, preference=None, verbose=False)"
      ]
     },
     "execution_count": 61,
     "metadata": {},
     "output_type": "execute_result"
    }
   ],
   "source": [
    "# Fitting the Model\n",
    "affprop.fit(lev_similarity)"
   ]
  },
  {
   "cell_type": "code",
   "execution_count": 62,
   "metadata": {},
   "outputs": [
    {
     "name": "stdout",
     "output_type": "stream",
     "text": [
      " - *Punjab National Bank:* Punjab National Bank\n",
      " - *State Bank of India:* State Bank of India\n",
      " - *Axis Bank:* Axis Bank\n",
      " - *Dhanalaxmi Bank:* Dhanalaxmi Bank\n",
      " - *Union Bank:* Union Bank\n",
      " - *HDFC Bank:* HDFC Bank, IDFC Bank\n",
      " - *ICIC Bank:* ICIC Bank\n",
      " - *Canara Bank:* Canara Bank\n",
      " - *Bank of Baroda:* Bank of Baroda\n",
      " - *Yes Bank:* Yes Bank\n",
      " - *Kotak Mahindra Bank:* Kotak Mahindra Bank\n",
      " - *DCB Bank:* DCB Bank\n",
      " - *Bandhan Bank:* Bandhan Bank\n"
     ]
    }
   ],
   "source": [
    "# Viewing the Clusters Formed\n",
    "for cluster_id in np.unique(affprop.labels_):\n",
    "    exemplar = words[affprop.cluster_centers_indices_[cluster_id]]\n",
    "    cluster = np.unique(words[np.nonzero(affprop.labels_==cluster_id)])\n",
    "    cluster_str = \", \".join(cluster)\n",
    "    print(\" - *%s:* %s\" % (exemplar, cluster_str))"
   ]
  },
  {
   "cell_type": "code",
   "execution_count": 63,
   "metadata": {},
   "outputs": [],
   "source": [
    "# Cluster IDs\n",
    "IDs=[]\n",
    "for cluster_id in np.unique(affprop.labels_):\n",
    "    exemplar = words[affprop.cluster_centers_indices_[cluster_id]]\n",
    "    IDs.append(exemplar)"
   ]
  },
  {
   "cell_type": "code",
   "execution_count": 64,
   "metadata": {},
   "outputs": [
    {
     "data": {
      "text/plain": [
       "['Punjab National Bank',\n",
       " 'State Bank of India',\n",
       " 'Axis Bank',\n",
       " 'Dhanalaxmi Bank',\n",
       " 'Union Bank',\n",
       " 'HDFC Bank',\n",
       " 'ICIC Bank',\n",
       " 'Canara Bank',\n",
       " 'Bank of Baroda',\n",
       " 'Yes Bank',\n",
       " 'Kotak Mahindra Bank',\n",
       " 'DCB Bank',\n",
       " 'Bandhan Bank']"
      ]
     },
     "execution_count": 64,
     "metadata": {},
     "output_type": "execute_result"
    }
   ],
   "source": [
    "IDs"
   ]
  },
  {
   "cell_type": "code",
   "execution_count": 65,
   "metadata": {},
   "outputs": [
    {
     "data": {
      "text/plain": [
       "array([19, 14, 14, 14, 15, 13, 13, 14, 13, 13, 18, 10, 14])"
      ]
     },
     "execution_count": 65,
     "metadata": {},
     "output_type": "execute_result"
    }
   ],
   "source": [
    "new_word='DCB_Bank_Officers'\n",
    "similarity = np.array([distance.levenshtein(w,new_word) for w in IDs])\n",
    "similarity"
   ]
  },
  {
   "cell_type": "code",
   "execution_count": 66,
   "metadata": {},
   "outputs": [
    {
     "data": {
      "text/plain": [
       "array([27, 14, 26, 26, 26, 26, 26, 26, 23, 26, 24, 26, 25])"
      ]
     },
     "execution_count": 66,
     "metadata": {},
     "output_type": "execute_result"
    }
   ],
   "source": [
    "new_word='State_Bank_of_India_Executives'\n",
    "similarity = np.array([distance.levenshtein(w,new_word) for w in IDs])\n",
    "similarity"
   ]
  },
  {
   "cell_type": "code",
   "execution_count": 67,
   "metadata": {},
   "outputs": [
    {
     "data": {
      "text/plain": [
       "array([17, 14,  7, 13, 11, 11, 11, 12, 12, 10, 16, 11, 11])"
      ]
     },
     "execution_count": 67,
     "metadata": {},
     "output_type": "execute_result"
    }
   ],
   "source": [
    "new_word='Axis_Bank_Board'\n",
    "similarity = np.array([distance.levenshtein(w,new_word) for w in IDs])\n",
    "similarity"
   ]
  },
  {
   "cell_type": "code",
   "execution_count": 68,
   "metadata": {},
   "outputs": [],
   "source": [
    "# The Plan for new words is use to either use the above similarity measure to keep a certain threshold pertaining to which \n",
    "# we either join it in a cluster or form a new cluster for it, but I think when we encounter a new word, it would be better \n",
    "# if we can run the model again after adding the new data point because the algorithm would do a better job at finding the \n",
    "# appropriate cluster or forming a new cluster of it's own for the new data point.\n",
    "# Final Note: If I have the data on which I have to work, I can make better models"
   ]
  },
  {
   "cell_type": "code",
   "execution_count": 69,
   "metadata": {},
   "outputs": [],
   "source": [
    "# This part of the code deals with the formation of Foriegn Key and Primary Key Relationships within the clusters formed"
   ]
  },
  {
   "cell_type": "code",
   "execution_count": 70,
   "metadata": {},
   "outputs": [],
   "source": [
    "# Continuing with our Test Case of Banks we expect our Clustering algorithm to get us the Clusters of Tables of a certain Bank\n",
    "# Now We are going to find the Primary Key and Foreign Key Relationships between those tables"
   ]
  },
  {
   "cell_type": "code",
   "execution_count": 71,
   "metadata": {},
   "outputs": [
    {
     "name": "stdout",
     "output_type": "stream",
     "text": [
      "['Branch_ID', 'Bank_ID']\n"
     ]
    }
   ],
   "source": [
    "# Each List Variable Corresponds to a Table in a Cluster\n",
    "# The List contains 2 lists in it, the first list corresponds to the Primary Keys of the Table and the second list to the other columns in the table\n",
    "Branch=[['Branch_ID','Bank_ID'],['Branch_Name','Branch_Address','Bank_Name']]\n",
    "Customer=[['Customer_ID'],['Full_Name','Age','Sex','Date_of_Joining','Date_of_Leaving','Branch_ID','Bank_ID']]\n",
    "Account=[['Account_ID'],['Customer_ID','Branch_ID','Balance','Date_of_Opening','Date_of_Closing']]\n",
    "Loan=[['Loan_ID'],['Account_ID','Purpose','Amount','Branch_ID','Date_of_Loan_Approval']]\n",
    "Employee=[['Employee_ID'],['Employee_Name','Date_of_Joining','Date_of_Leaving','Employee_Rating','Bank_ID','Branch_ID']]\n",
    "# The Idea for testing purposes is to take the Primary Keys of the First table and to find which of these primary keys exist\n",
    "# in the other tables so as to assign them as Foreign Keys in those tables\n",
    "Cluster=[Branch,Customer,Account,Loan,Employee]\n",
    "Foriegn_Key_Canditates=Cluster[0][0]\n",
    "print(Foriegn_Key_Canditates)\n"
   ]
  },
  {
   "cell_type": "code",
   "execution_count": 72,
   "metadata": {},
   "outputs": [
    {
     "name": "stdout",
     "output_type": "stream",
     "text": [
      "[['Branch_ID', 'Bank_ID'], ['Branch_Name', 'Branch_Address', 'Bank_Name']]\n",
      "[['Customer_ID'], ['Full_Name', 'Age', 'Sex', 'Date_of_Joining', 'Date_of_Leaving', 'Branch_ID', 'Bank_ID'], ['Branch_ID', 'Bank_ID']]\n",
      "[['Account_ID'], ['Customer_ID', 'Branch_ID', 'Balance', 'Date_of_Opening', 'Date_of_Closing'], ['Branch_ID']]\n",
      "[['Loan_ID'], ['Account_ID', 'Purpose', 'Amount', 'Branch_ID', 'Date_of_Loan_Approval'], ['Branch_ID']]\n",
      "[['Employee_ID'], ['Employee_Name', 'Date_of_Joining', 'Date_of_Leaving', 'Employee_Rating', 'Bank_ID', 'Branch_ID'], ['Bank_ID', 'Branch_ID']]\n"
     ]
    }
   ],
   "source": [
    "# Now to use the Foriegn_Key_Canditates to make Foreign Keys in other tables \n",
    "# Foriegn Keys will be specified seperately as the third element of the list which corresponds to a Table\n",
    "for i in range(1,len(Cluster)):\n",
    "    temp=[]\n",
    "    for j in Cluster[i][1]:\n",
    "        for k in Foriegn_Key_Canditates:\n",
    "            if(k==j):\n",
    "                temp.append(k)\n",
    "    Cluster[i].append(temp)\n",
    "for i in Cluster:\n",
    "    print(i)"
   ]
  },
  {
   "cell_type": "code",
   "execution_count": 73,
   "metadata": {},
   "outputs": [
    {
     "name": "stdout",
     "output_type": "stream",
     "text": [
      "Foriegn Key Canditates obtained from Table 1 in the Cluster are: \n",
      "Branch_ID Bank_ID \n",
      "Foriegn Keys obtained from Table 1 in the Cluster are: \n",
      "Branch_ID Bank_ID \n",
      "Foriegn Keys obtained from Table 2 in the Cluster are: \n",
      "Branch_ID \n",
      "Foriegn Keys obtained from Table 3 in the Cluster are: \n",
      "Branch_ID \n",
      "Foriegn Keys obtained from Table 4 in the Cluster are: \n",
      "Bank_ID Branch_ID \n"
     ]
    }
   ],
   "source": [
    "# Printing the Results Obtained:\n",
    "print('Foriegn Key Canditates obtained from Table 1 in the Cluster are: ')\n",
    "for i in Foriegn_Key_Canditates:\n",
    "    print(i,end=' ')\n",
    "print()\n",
    "for i in range(1,len(Cluster)):\n",
    "        print('Foriegn Keys obtained from Table '+str(i)+' in the Cluster are: ')\n",
    "        for j in Cluster[i][2]:\n",
    "            print(j,end=' ')\n",
    "        print()\n",
    "\n"
   ]
  },
  {
   "cell_type": "code",
   "execution_count": 74,
   "metadata": {},
   "outputs": [],
   "source": [
    "# Using the Dictionary Format to store the Clusters as well as the links"
   ]
  },
  {
   "cell_type": "code",
   "execution_count": 75,
   "metadata": {},
   "outputs": [],
   "source": [
    "Database={'Cluster1':{'Table1':Branch,'Table2':Customer,'Table3':Account,'Table4':Loan,'Table5':Employee,'Links':{'From':[],'To':[]}}}"
   ]
  },
  {
   "cell_type": "code",
   "execution_count": 76,
   "metadata": {},
   "outputs": [
    {
     "data": {
      "text/plain": [
       "{'Cluster1': {'Links': {'From': [], 'To': []},\n",
       "  'Table1': [['Branch_ID', 'Bank_ID'],\n",
       "   ['Branch_Name', 'Branch_Address', 'Bank_Name']],\n",
       "  'Table2': [['Customer_ID'],\n",
       "   ['Full_Name',\n",
       "    'Age',\n",
       "    'Sex',\n",
       "    'Date_of_Joining',\n",
       "    'Date_of_Leaving',\n",
       "    'Branch_ID',\n",
       "    'Bank_ID'],\n",
       "   ['Branch_ID', 'Bank_ID']],\n",
       "  'Table3': [['Account_ID'],\n",
       "   ['Customer_ID',\n",
       "    'Branch_ID',\n",
       "    'Balance',\n",
       "    'Date_of_Opening',\n",
       "    'Date_of_Closing'],\n",
       "   ['Branch_ID']],\n",
       "  'Table4': [['Loan_ID'],\n",
       "   ['Account_ID', 'Purpose', 'Amount', 'Branch_ID', 'Date_of_Loan_Approval'],\n",
       "   ['Branch_ID']],\n",
       "  'Table5': [['Employee_ID'],\n",
       "   ['Employee_Name',\n",
       "    'Date_of_Joining',\n",
       "    'Date_of_Leaving',\n",
       "    'Employee_Rating',\n",
       "    'Bank_ID',\n",
       "    'Branch_ID'],\n",
       "   ['Bank_ID', 'Branch_ID']]}}"
      ]
     },
     "execution_count": 76,
     "metadata": {},
     "output_type": "execute_result"
    }
   ],
   "source": [
    "Database"
   ]
  },
  {
   "cell_type": "code",
   "execution_count": 77,
   "metadata": {},
   "outputs": [],
   "source": [
    "# Since we take that all links in the cluster start from the first table in the cluster\n",
    "Database['Cluster1']['Links']['From'].append('Table1')"
   ]
  },
  {
   "cell_type": "code",
   "execution_count": 78,
   "metadata": {},
   "outputs": [
    {
     "name": "stdout",
     "output_type": "stream",
     "text": [
      "['Table2', 'Table3', 'Table4', 'Table5']\n"
     ]
    }
   ],
   "source": [
    "# Creating the 'To' List of the Links sub-Dictionary\n",
    "ans=[]\n",
    "for i in range(1,len(Cluster)):\n",
    "    for j in Cluster[i][1]:\n",
    "        for k in Foriegn_Key_Canditates:\n",
    "            if(k==j):\n",
    "                if 'Table'+str(i+1) not in ans:\n",
    "                    ans.append('Table'+str(i+1))\n",
    "print(ans)"
   ]
  },
  {
   "cell_type": "code",
   "execution_count": 79,
   "metadata": {},
   "outputs": [],
   "source": [
    "Database['Cluster1']['Links']['To']=ans"
   ]
  },
  {
   "cell_type": "code",
   "execution_count": 80,
   "metadata": {},
   "outputs": [
    {
     "data": {
      "text/plain": [
       "{'Cluster1': {'Links': {'From': ['Table1'],\n",
       "   'To': ['Table2', 'Table3', 'Table4', 'Table5']},\n",
       "  'Table1': [['Branch_ID', 'Bank_ID'],\n",
       "   ['Branch_Name', 'Branch_Address', 'Bank_Name']],\n",
       "  'Table2': [['Customer_ID'],\n",
       "   ['Full_Name',\n",
       "    'Age',\n",
       "    'Sex',\n",
       "    'Date_of_Joining',\n",
       "    'Date_of_Leaving',\n",
       "    'Branch_ID',\n",
       "    'Bank_ID'],\n",
       "   ['Branch_ID', 'Bank_ID']],\n",
       "  'Table3': [['Account_ID'],\n",
       "   ['Customer_ID',\n",
       "    'Branch_ID',\n",
       "    'Balance',\n",
       "    'Date_of_Opening',\n",
       "    'Date_of_Closing'],\n",
       "   ['Branch_ID']],\n",
       "  'Table4': [['Loan_ID'],\n",
       "   ['Account_ID', 'Purpose', 'Amount', 'Branch_ID', 'Date_of_Loan_Approval'],\n",
       "   ['Branch_ID']],\n",
       "  'Table5': [['Employee_ID'],\n",
       "   ['Employee_Name',\n",
       "    'Date_of_Joining',\n",
       "    'Date_of_Leaving',\n",
       "    'Employee_Rating',\n",
       "    'Bank_ID',\n",
       "    'Branch_ID'],\n",
       "   ['Bank_ID', 'Branch_ID']]}}"
      ]
     },
     "execution_count": 80,
     "metadata": {},
     "output_type": "execute_result"
    }
   ],
   "source": [
    "Database"
   ]
  },
  {
   "cell_type": "code",
   "execution_count": 81,
   "metadata": {},
   "outputs": [],
   "source": [
    "# The Dictionary 'Database' contains the Cluster Organised by a format requested by you.\n",
    "# You can print and see the 'Database' for yourself."
   ]
  },
  {
   "cell_type": "code",
   "execution_count": null,
   "metadata": {},
   "outputs": [],
   "source": []
  },
  {
   "cell_type": "code",
   "execution_count": null,
   "metadata": {},
   "outputs": [],
   "source": []
  }
 ],
 "metadata": {
  "kernelspec": {
   "display_name": "Python 3",
   "language": "python",
   "name": "python3"
  },
  "language_info": {
   "codemirror_mode": {
    "name": "ipython",
    "version": 3
   },
   "file_extension": ".py",
   "mimetype": "text/x-python",
   "name": "python",
   "nbconvert_exporter": "python",
   "pygments_lexer": "ipython3",
   "version": "3.6.4"
  }
 },
 "nbformat": 4,
 "nbformat_minor": 2
}
